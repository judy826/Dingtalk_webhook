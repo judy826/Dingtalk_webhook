{
 "cells": [
  {
   "cell_type": "markdown",
   "id": "6b36389f",
   "metadata": {},
   "source": [
    "# 基础信息"
   ]
  },
  {
   "cell_type": "code",
   "execution_count": 91,
   "id": "d7087a4c",
   "metadata": {
    "ExecuteTime": {
     "end_time": "2022-06-02T09:02:34.587380Z",
     "start_time": "2022-06-02T09:02:34.573416Z"
    }
   },
   "outputs": [],
   "source": [
    "#这里设置参数\n",
    "#excel表格文件路径（与程序在同一个文件夹内，可以只写文件名称；不在同一个文件夹内的，要填写完整路径）\n",
    "# excel_file = \"E:/钉钉推送/销售日报.xlsx\"    \n",
    "excel_file = \"E:/钉钉推送/销售日报-模板.xlsx\" "
   ]
  },
  {
   "cell_type": "markdown",
   "id": "4506f21d",
   "metadata": {},
   "source": [
    "# 仓库数据抽取"
   ]
  },
  {
   "cell_type": "code",
   "execution_count": null,
   "id": "1882d741",
   "metadata": {},
   "outputs": [],
   "source": [
    "import hive_db"
   ]
  },
  {
   "cell_type": "code",
   "execution_count": 52,
   "id": "da78c805",
   "metadata": {
    "ExecuteTime": {
     "end_time": "2022-06-02T07:20:26.686210Z",
     "start_time": "2022-06-02T07:20:26.682221Z"
    }
   },
   "outputs": [],
   "source": [
    "# 连接Hive\n",
    "myhive = hive_db.HiveData(host='10.5.34.52',\n",
    "                            port=10000,\n",
    "                            auth=\"NONE\",\n",
    "                            database='ods',\n",
    "                            username='hive'\n",
    "                                     )"
   ]
  },
  {
   "cell_type": "code",
   "execution_count": 53,
   "id": "5087e3c9",
   "metadata": {
    "ExecuteTime": {
     "end_time": "2022-06-02T07:20:31.564334Z",
     "start_time": "2022-06-02T07:20:31.551370Z"
    }
   },
   "outputs": [],
   "source": [
    "env_set_big = '''set hive.execution.engine=spark;\n",
    "set spark.app.name=datamining-yyx;\n",
    "set spark.dynamicAllocation.enabled = false;\n",
    "set spark.driver.memory=1g;\n",
    "set spark.executor.instances=15;\n",
    "set spark.executor.memory=2g;\n",
    "set spark.executor.cores=2;\n",
    "set spark.executor.memoryOverhead=1g;\n",
    "set spark.dynamicAllocation.executorIdleTimeout=300;\n",
    "set spark.dynamicAllocation.schedulerBacklogTimeout=10;\n",
    "set spark.default.parallelism = 90;\n",
    "set hive.merge.sparkfiles = true;\n",
    "set hive.merge.smallfiles.avgsize = 128000000;\n",
    "'''"
   ]
  },
  {
   "cell_type": "code",
   "execution_count": 59,
   "id": "fd4801bc",
   "metadata": {
    "ExecuteTime": {
     "end_time": "2022-06-02T07:23:15.185773Z",
     "start_time": "2022-06-02T07:23:15.170813Z"
    }
   },
   "outputs": [],
   "source": [
    "def get_test_data_writeoff(myhive,env_set_big,search_date):\n",
    "    sql = '''select * from dm.dm_sales_daily_sale_report where total_date = \\'{search_date}\\'''' .format(search_date = search_date)\n",
    "    myhive = hive_db.HiveData(host='10.5.34.52',\n",
    "                              port=10000,\n",
    "                              auth=\"NONE\",\n",
    "                              database='dm',\n",
    "                              username='hive')\n",
    "    df = myhive.select_df_cursor(sql_select=sql, env_set=env_set_big)\n",
    "    df.columns = [col.split('.')[1] if '.' in col else col for col in df.columns.tolist()]\n",
    "    df.columns = [col.lower() for col in df.columns.tolist()] \n",
    "    print('basedata数据规模：', df.shape)\n",
    "    df.head()\n",
    "    return df"
   ]
  },
  {
   "cell_type": "code",
   "execution_count": 117,
   "id": "6ba5c3dd",
   "metadata": {
    "ExecuteTime": {
     "end_time": "2022-06-02T09:15:27.683096Z",
     "start_time": "2022-06-02T09:15:27.667139Z"
    }
   },
   "outputs": [],
   "source": [
    "search_date='2022-03-20'\n",
    "search_date_target='2022-03'"
   ]
  },
  {
   "cell_type": "code",
   "execution_count": 64,
   "id": "e2b86d31",
   "metadata": {
    "ExecuteTime": {
     "end_time": "2022-06-02T07:24:24.864542Z",
     "start_time": "2022-06-02T07:24:04.222177Z"
    }
   },
   "outputs": [
    {
     "name": "stdout",
     "output_type": "stream",
     "text": [
      "basedata数据规模： (12, 7)\n"
     ]
    }
   ],
   "source": [
    "df = get_test_data_writeoff(myhive,env_set_big,search_date)"
   ]
  },
  {
   "cell_type": "code",
   "execution_count": 75,
   "id": "431d097d",
   "metadata": {
    "ExecuteTime": {
     "end_time": "2022-06-02T07:52:49.464044Z",
     "start_time": "2022-06-02T07:52:27.366685Z"
    }
   },
   "outputs": [
    {
     "name": "stdout",
     "output_type": "stream",
     "text": [
      "basedata数据规模： (4, 7)\n"
     ]
    }
   ],
   "source": [
    "df_target = get_test_data_writeoff(myhive,env_set_big,search_date_target)"
   ]
  },
  {
   "cell_type": "markdown",
   "id": "aa9d84cd",
   "metadata": {},
   "source": [
    "# Excel 插入数据"
   ]
  },
  {
   "cell_type": "code",
   "execution_count": 99,
   "id": "539d246a",
   "metadata": {
    "ExecuteTime": {
     "end_time": "2022-06-02T09:05:07.872649Z",
     "start_time": "2022-06-02T09:05:07.798655Z"
    },
    "scrolled": true
   },
   "outputs": [],
   "source": [
    "import openpyxl\n",
    "\n",
    "myexcel = openpyxl.load_workbook(excel_file)\n",
    "sheet_list = myexcel.sheetnames\n",
    "wb = workbook.active\n",
    "# worksheet= workbook.get_sheet_by_name('总览')\n",
    "ws_sheet = workbook['金融']\n",
    "ws_sheet['C4'] = df['day_total_volume'].iloc[0]\n",
    "# 本品牌整车销量\n",
    "ws_sheet['C16'] = df['day_total_volume'].iloc[1]\n",
    "ws_sheet['C17'] = df['month_total_volume'].iloc[1]\n",
    "ws_sheet['C18'] = df['year_total_volume'].iloc[1]\n",
    "# 本品牌合同量\n",
    "ws_sheet['C11'] = df['day_total_volume'].iloc[6]\n",
    "ws_sheet['C12'] = df['month_total_volume'].iloc[6]\n",
    "ws_sheet['C14'] = df['year_total_volume'].iloc[6]\n",
    "# 全品新车合同量\n",
    "ws_sheet['D11'] = df['day_total_volume'].iloc[7]\n",
    "ws_sheet['D12'] = df['month_total_volume'].iloc[7]\n",
    "ws_sheet['D14'] = df['year_total_volume'].iloc[7]\n",
    "# 全品二手车合同量\n",
    "ws_sheet['E11'] = df['day_total_volume'].iloc[5]\n",
    "ws_sheet['E12'] = df['month_total_volume'].iloc[5]\n",
    "ws_sheet['E14'] = df['year_total_volume'].iloc[5]\n",
    "# 本品牌申请量\n",
    "ws_sheet['C4'] = df['day_total_volume'].iloc[9]\n",
    "ws_sheet['C5'] = df['month_total_volume'].iloc[9]\n",
    "ws_sheet['C6'] = df['year_total_volume'].iloc[9]\n",
    "# 全品新车申请量\n",
    "ws_sheet['D4'] = df['day_total_volume'].iloc[8]\n",
    "ws_sheet['D5'] = df['month_total_volume'].iloc[8]\n",
    "ws_sheet['D6'] = df['year_total_volume'].iloc[8]\n",
    "# 全品二手车申请量\n",
    "ws_sheet['E4'] = df['day_total_volume'].iloc[10]\n",
    "ws_sheet['E5'] = df['month_total_volume'].iloc[10]\n",
    "ws_sheet['E6'] = df['year_total_volume'].iloc[10]\n",
    "# 本品牌核准量\n",
    "ws_sheet['C7'] = df['day_total_volume'].iloc[3]\n",
    "ws_sheet['C8'] = df['month_total_volume'].iloc[3]\n",
    "\n",
    "# 全品新车核准量\n",
    "ws_sheet['D7'] = df['day_total_volume'].iloc[2]\n",
    "ws_sheet['D8'] = df['month_total_volume'].iloc[2]\n",
    "\n",
    "# 全品二手车核准量\n",
    "ws_sheet['E7'] = df['day_total_volume'].iloc[4]\n",
    "ws_sheet['E8'] = df['month_total_volume'].iloc[4]\n",
    "\n",
    "# 日贴息产品量\n",
    "# 进单经销商量"
   ]
  },
  {
   "cell_type": "code",
   "execution_count": 100,
   "id": "b1347e3b",
   "metadata": {
    "ExecuteTime": {
     "end_time": "2022-06-02T09:05:08.317861Z",
     "start_time": "2022-06-02T09:05:08.297915Z"
    }
   },
   "outputs": [],
   "source": [
    "# 目标量\n",
    "ws_sheet['I2'] = df_target['month_total_volume'].iloc[0]\n",
    "ws_sheet['J2'] = df_target['month_total_volume'].iloc[1]\n",
    "ws_sheet['K2'] = df_target['month_total_volume'].iloc[2]\n",
    "ws_sheet['L2'] = df_target['month_total_volume'].iloc[3]\n",
    "ws_sheet['I3'] = df_target['year_total_volume'].iloc[0]\n",
    "ws_sheet['J3'] = df_target['year_total_volume'].iloc[1]\n",
    "ws_sheet['K3'] = df_target['year_total_volume'].iloc[2]\n",
    "ws_sheet['L3'] = df_target['year_total_volume'].iloc[3]"
   ]
  },
  {
   "cell_type": "code",
   "execution_count": 101,
   "id": "8a256bff",
   "metadata": {
    "ExecuteTime": {
     "end_time": "2022-06-02T09:05:08.810376Z",
     "start_time": "2022-06-02T09:05:08.791426Z"
    }
   },
   "outputs": [],
   "source": [
    "# 计算公式\n",
    "ws_sheet['F4'] = '=C4+D4+E4'\n",
    "ws_sheet['F5'] = '=C5+D5+E5'\n",
    "ws_sheet['F6'] = '=C6+D6+E6'\n",
    "ws_sheet['F7'] = '=C7+D7+E7'\n",
    "ws_sheet['F8'] = '=C8+D8+E8'\n",
    "ws_sheet['F9'] = '=F8/F5'\n",
    "ws_sheet['F10'] = '=F9'\n",
    "ws_sheet['F11'] = '=C11+D11+E11'\n",
    "ws_sheet['F12'] = '=C12+D12+E12'\n",
    "ws_sheet['F13'] = '=F12/M2'\n",
    "ws_sheet['F14'] = '=C14+D14+E14'\n",
    "ws_sheet['F15'] = '=F14/M3'\n",
    "\n",
    "ws_sheet['C19'] = '=C4/C16'\n",
    "ws_sheet['C20'] = '=C11/C16'\n",
    "ws_sheet['C21'] = '=C5/C17'\n",
    "ws_sheet['C22'] = '=C12/C17'\n",
    "ws_sheet['C23'] = '=C12/C17/L2/K2'\n",
    "ws_sheet['C24'] = '=C14/C18'\n",
    "ws_sheet['C25'] = '=C14/C18/L3/K3'\n",
    "\n",
    "ws_sheet['C9'] = '=C8/C5'\n",
    "ws_sheet['C10'] = '=C9'\n",
    "ws_sheet['D9'] = '=D8/D5'\n",
    "ws_sheet['D10'] = '=D9'\n",
    "ws_sheet['E9'] = '=E8/E5'\n",
    "ws_sheet['E10'] = '=E9'\n",
    "ws_sheet['F9'] = '=F8/F5'\n",
    "ws_sheet['F10'] = '=F9'\n",
    "\n",
    "ws_sheet['C13'] = '=C12/L2'\n",
    "ws_sheet['D13'] = '=D12/J2'\n",
    "ws_sheet['E13'] = '=E12/I2'\n",
    "ws_sheet['F13'] = '=F12/M2'\n",
    "\n",
    "ws_sheet['C15'] = '=C14/L3'\n",
    "ws_sheet['D15'] = '=D14/J3'\n",
    "ws_sheet['E15'] = '=E14/I3'\n",
    "ws_sheet['F15'] = '=F14/M3'\n",
    "\n",
    "ws_sheet['M2'] = '=I2+J2+L2'\n",
    "ws_sheet['M3'] = '=I3+J3+L3'"
   ]
  },
  {
   "cell_type": "code",
   "execution_count": 120,
   "id": "59598ba4",
   "metadata": {
    "ExecuteTime": {
     "end_time": "2022-06-02T09:16:58.771514Z",
     "start_time": "2022-06-02T09:16:58.761541Z"
    }
   },
   "outputs": [],
   "source": [
    "search_date_split = search_date.split('-')"
   ]
  },
  {
   "cell_type": "code",
   "execution_count": 126,
   "id": "b632c598",
   "metadata": {
    "ExecuteTime": {
     "end_time": "2022-06-02T09:18:59.377105Z",
     "start_time": "2022-06-02T09:18:59.367131Z"
    }
   },
   "outputs": [],
   "source": [
    "date_value = search_date_split[0] +'年'+search_date_split[1]+'月'+search_date_split[2]+'日'\n",
    "ws_sheet['A1'] = date_value"
   ]
  },
  {
   "cell_type": "code",
   "execution_count": null,
   "id": "617338e9",
   "metadata": {},
   "outputs": [],
   "source": [
    "# 获取到Merge单元格\n",
    "# merged_ranges = sheet_.merged_cell_ranges  # 获取当前工作表的所有合并区域列表\n",
    "# for merged_range in merged_ranges:\n",
    "#         print(type(merged_range))  # 打印区域对象类型\n",
    "#         print(merged_range)  # 打印区域"
   ]
  },
  {
   "cell_type": "code",
   "execution_count": 123,
   "id": "2ebf6b51",
   "metadata": {
    "ExecuteTime": {
     "end_time": "2022-06-02T09:17:44.355819Z",
     "start_time": "2022-06-02T09:17:44.345846Z"
    },
    "scrolled": true
   },
   "outputs": [
    {
     "name": "stderr",
     "output_type": "stream",
     "text": [
      "c:\\users\\administrator\\appdata\\local\\programs\\python\\python37\\lib\\site-packages\\ipykernel_launcher.py:1: DeprecationWarning: Call to deprecated function merged_cell_ranges (Use ws.merged_cells.ranges).\n",
      "  \"\"\"Entry point for launching an IPython kernel.\n"
     ]
    },
    {
     "data": {
      "text/plain": [
       "[<MergedCellRange A26:F30>,\n",
       " <MergedCellRange A1:F1>,\n",
       " <MergedCellRange A2:A3>,\n",
       " <MergedCellRange B2:B3>,\n",
       " <MergedCellRange C2:C3>,\n",
       " <MergedCellRange D2:E2>,\n",
       " <MergedCellRange F2:F3>,\n",
       " <MergedCellRange A4:A6>,\n",
       " <MergedCellRange A7:A10>,\n",
       " <MergedCellRange A11:A15>,\n",
       " <MergedCellRange A16:A18>,\n",
       " <MergedCellRange A19:A25>]"
      ]
     },
     "execution_count": 123,
     "metadata": {},
     "output_type": "execute_result"
    }
   ],
   "source": [
    "# 查看哪些单元格被合并了\n",
    "ws_sheet.merged_cell_ranges"
   ]
  },
  {
   "cell_type": "code",
   "execution_count": 124,
   "id": "3cfe425e",
   "metadata": {
    "ExecuteTime": {
     "end_time": "2022-06-02T09:17:50.636653Z",
     "start_time": "2022-06-02T09:17:50.597548Z"
    }
   },
   "outputs": [],
   "source": [
    "excel_file_save = \"E:/钉钉推送/销售日报(3).xlsx\" \n",
    "workbook.save(excel_file_save)\n",
    "sheet_list=['金融']"
   ]
  },
  {
   "cell_type": "markdown",
   "id": "ad734b6c",
   "metadata": {},
   "source": [
    "# Excel 转换成图片"
   ]
  },
  {
   "cell_type": "code",
   "execution_count": 132,
   "id": "19c1d69a",
   "metadata": {
    "ExecuteTime": {
     "end_time": "2022-06-02T09:43:16.510153Z",
     "start_time": "2022-06-02T09:43:16.498185Z"
    }
   },
   "outputs": [
    {
     "data": {
      "text/plain": [
       "'E:\\\\Analysis_Project\\\\Dingtalk_webhook'"
      ]
     },
     "execution_count": 132,
     "metadata": {},
     "output_type": "execute_result"
    }
   ],
   "source": [
    "os.getcwd()"
   ]
  },
  {
   "cell_type": "code",
   "execution_count": 129,
   "id": "fe05e6a2",
   "metadata": {
    "ExecuteTime": {
     "end_time": "2022-06-02T09:19:35.144622Z",
     "start_time": "2022-06-02T09:19:30.709558Z"
    },
    "code_folding": []
   },
   "outputs": [
    {
     "name": "stdout",
     "output_type": "stream",
     "text": [
      "开始截图，请耐心等待。。。\n",
      "截图成功，一共截图1张图片。【保存在E:/钉钉推送//截图-2022年03月20日//】\n"
     ]
    }
   ],
   "source": [
    "import excel2img\n",
    "import os\n",
    "\n",
    "#接下来开始运行程序\n",
    "#要保存的图片路径(保存为png图片格式)\n",
    "if os.path.dirname(excel_file_save) == \"\" :\n",
    "    excel_file_save = os.getcwd()+\"//\"+excel_file_save\n",
    "img_save = os.path.dirname(excel_file_save)+\"//截图-\"+date_value+\"//\"\n",
    "if not os.path.exists(img_save):\n",
    "    os.makedirs(img_save)\n",
    "# 保存为图片。\n",
    "try:\n",
    "    print(\"开始截图，请耐心等待。。。\")\n",
    "    for i in range(len(sheet_list)):\n",
    "        excel2img.export_img(excel_file_save, date_value+\".png\", sheet_list[i], 'A1:F30')\n",
    "except :\n",
    "    print(\"没有截图成功！！！\")\n",
    "else:\n",
    "    print(\"截图成功！【保存在\"+img_save+\"】\")"
   ]
  },
  {
   "cell_type": "markdown",
   "id": "0cb38803",
   "metadata": {},
   "source": [
    "# 图片发送钉钉"
   ]
  },
  {
   "cell_type": "code",
   "execution_count": null,
   "id": "d6b4bba8",
   "metadata": {},
   "outputs": [],
   "source": []
  }
 ],
 "metadata": {
  "kernelspec": {
   "display_name": "Python 3 (ipykernel)",
   "language": "python",
   "name": "python3"
  },
  "language_info": {
   "codemirror_mode": {
    "name": "ipython",
    "version": 3
   },
   "file_extension": ".py",
   "mimetype": "text/x-python",
   "name": "python",
   "nbconvert_exporter": "python",
   "pygments_lexer": "ipython3",
   "version": "3.7.6"
  },
  "toc": {
   "base_numbering": 1,
   "nav_menu": {},
   "number_sections": true,
   "sideBar": true,
   "skip_h1_title": false,
   "title_cell": "Table of Contents",
   "title_sidebar": "Contents",
   "toc_cell": false,
   "toc_position": {
    "height": "calc(100% - 180px)",
    "left": "10px",
    "top": "150px",
    "width": "201.094px"
   },
   "toc_section_display": true,
   "toc_window_display": true
  }
 },
 "nbformat": 4,
 "nbformat_minor": 5
}
